{
 "cells": [
  {
   "cell_type": "markdown",
   "id": "cc3f0f1d-0b1d-4c53-8e9d-467f7419e617",
   "metadata": {},
   "source": [
    "# Credit Card Fraud Detection using Unsupervised Algorithms"
   ]
  },
  {
   "cell_type": "markdown",
   "id": "50aee626-210f-4212-8cec-4187d5016207",
   "metadata": {},
   "source": [
    "## Import Packages"
   ]
  },
  {
   "cell_type": "code",
   "execution_count": 1,
   "id": "f97fbc1b-8386-4d3d-b6f4-3ce01abd8a2c",
   "metadata": {
    "tags": []
   },
   "outputs": [],
   "source": [
    "import warnings\n",
    "import time\n",
    "import numpy as np\n",
    "import pandas as pd\n",
    "import matplotlib\n",
    "import matplotlib.pyplot as plt\n",
    "\n",
    "\n",
    "from sklearn.impute import SimpleImputer\n",
    "from sklearn.preprocessing import StandardScaler\n",
    "from sklearn import metrics\n",
    "from sklearn.model_selection import train_test_split\n",
    "from sklearn_extra.cluster import CLARA, KMedoids\n",
    "\n",
    "from imblearn.over_sampling import SMOTE, ADASYN\n",
    "\n",
    "import seaborn as sns\n",
    "\n",
    "from tabulate import tabulate\n",
    "\n",
    "warnings.filterwarnings(\"ignore\")\n",
    "plt.rcParams.update({'font.family': 'Helvetica'})\n",
    "COLORS = ['blue', 'red']\n",
    "# sns.set_palette(\"bright\")"
   ]
  },
  {
   "cell_type": "markdown",
   "id": "dd709961-ebcf-4ded-8823-624c5b0a00b7",
   "metadata": {},
   "source": [
    "## Read Dataset"
   ]
  },
  {
   "cell_type": "markdown",
   "id": "d9b70c5c-5f3c-4219-ad33-7536c892cb42",
   "metadata": {},
   "source": [
    "Dataset is available on https://www.kaggle.com/datasets/mlg-ulb/creditcardfraud"
   ]
  },
  {
   "cell_type": "code",
   "execution_count": 2,
   "id": "9b9ece0e-edf1-40e9-8c6e-ee1507a2fd70",
   "metadata": {
    "tags": []
   },
   "outputs": [
    {
     "data": {
      "text/html": [
       "<div>\n",
       "<style scoped>\n",
       "    .dataframe tbody tr th:only-of-type {\n",
       "        vertical-align: middle;\n",
       "    }\n",
       "\n",
       "    .dataframe tbody tr th {\n",
       "        vertical-align: top;\n",
       "    }\n",
       "\n",
       "    .dataframe thead th {\n",
       "        text-align: right;\n",
       "    }\n",
       "</style>\n",
       "<table border=\"1\" class=\"dataframe\">\n",
       "  <thead>\n",
       "    <tr style=\"text-align: right;\">\n",
       "      <th></th>\n",
       "      <th>step</th>\n",
       "      <th>customer</th>\n",
       "      <th>age</th>\n",
       "      <th>gender</th>\n",
       "      <th>zipcodeOri</th>\n",
       "      <th>merchant</th>\n",
       "      <th>zipMerchant</th>\n",
       "      <th>category</th>\n",
       "      <th>amount</th>\n",
       "      <th>fraud</th>\n",
       "    </tr>\n",
       "  </thead>\n",
       "  <tbody>\n",
       "    <tr>\n",
       "      <th>0</th>\n",
       "      <td>0</td>\n",
       "      <td>'C1093826151'</td>\n",
       "      <td>'4'</td>\n",
       "      <td>'M'</td>\n",
       "      <td>'28007'</td>\n",
       "      <td>'M348934600'</td>\n",
       "      <td>'28007'</td>\n",
       "      <td>'es_transportation'</td>\n",
       "      <td>4.55</td>\n",
       "      <td>0</td>\n",
       "    </tr>\n",
       "    <tr>\n",
       "      <th>1</th>\n",
       "      <td>0</td>\n",
       "      <td>'C352968107'</td>\n",
       "      <td>'2'</td>\n",
       "      <td>'M'</td>\n",
       "      <td>'28007'</td>\n",
       "      <td>'M348934600'</td>\n",
       "      <td>'28007'</td>\n",
       "      <td>'es_transportation'</td>\n",
       "      <td>39.68</td>\n",
       "      <td>0</td>\n",
       "    </tr>\n",
       "    <tr>\n",
       "      <th>2</th>\n",
       "      <td>0</td>\n",
       "      <td>'C2054744914'</td>\n",
       "      <td>'4'</td>\n",
       "      <td>'F'</td>\n",
       "      <td>'28007'</td>\n",
       "      <td>'M1823072687'</td>\n",
       "      <td>'28007'</td>\n",
       "      <td>'es_transportation'</td>\n",
       "      <td>26.89</td>\n",
       "      <td>0</td>\n",
       "    </tr>\n",
       "    <tr>\n",
       "      <th>3</th>\n",
       "      <td>0</td>\n",
       "      <td>'C1760612790'</td>\n",
       "      <td>'3'</td>\n",
       "      <td>'M'</td>\n",
       "      <td>'28007'</td>\n",
       "      <td>'M348934600'</td>\n",
       "      <td>'28007'</td>\n",
       "      <td>'es_transportation'</td>\n",
       "      <td>17.25</td>\n",
       "      <td>0</td>\n",
       "    </tr>\n",
       "    <tr>\n",
       "      <th>4</th>\n",
       "      <td>0</td>\n",
       "      <td>'C757503768'</td>\n",
       "      <td>'5'</td>\n",
       "      <td>'M'</td>\n",
       "      <td>'28007'</td>\n",
       "      <td>'M348934600'</td>\n",
       "      <td>'28007'</td>\n",
       "      <td>'es_transportation'</td>\n",
       "      <td>35.72</td>\n",
       "      <td>0</td>\n",
       "    </tr>\n",
       "  </tbody>\n",
       "</table>\n",
       "</div>"
      ],
      "text/plain": [
       "   step       customer  age gender zipcodeOri       merchant zipMerchant  \\\n",
       "0     0  'C1093826151'  '4'    'M'    '28007'   'M348934600'     '28007'   \n",
       "1     0   'C352968107'  '2'    'M'    '28007'   'M348934600'     '28007'   \n",
       "2     0  'C2054744914'  '4'    'F'    '28007'  'M1823072687'     '28007'   \n",
       "3     0  'C1760612790'  '3'    'M'    '28007'   'M348934600'     '28007'   \n",
       "4     0   'C757503768'  '5'    'M'    '28007'   'M348934600'     '28007'   \n",
       "\n",
       "              category  amount  fraud  \n",
       "0  'es_transportation'    4.55      0  \n",
       "1  'es_transportation'   39.68      0  \n",
       "2  'es_transportation'   26.89      0  \n",
       "3  'es_transportation'   17.25      0  \n",
       "4  'es_transportation'   35.72      0  "
      ]
     },
     "execution_count": 2,
     "metadata": {},
     "output_type": "execute_result"
    }
   ],
   "source": [
    "df = pd.read_csv('archive/bs140513_032310.csv')\n",
    "df.head()\n",
    "\n",
    "# df.drop(['V23', 'V22', 'V26', 'V15', 'V13', 'V25', 'V24', 'V8', 'V28', 'Amount', 'V27',], axis=1, inplace=True)"
   ]
  },
  {
   "cell_type": "markdown",
   "id": "0e67a015-1e90-4a6b-a1f0-83626e3dd7a0",
   "metadata": {},
   "source": [
    "## Dataset Information"
   ]
  },
  {
   "cell_type": "code",
   "execution_count": 3,
   "id": "dc588905-28cf-42c7-b636-7c8f2efd6d3b",
   "metadata": {
    "tags": []
   },
   "outputs": [],
   "source": [
    "customer = df.groupby('customer').size().reset_index(name='customer_total_trans')\n",
    "customer['customer_ID'] = range(1, len(customer) + 1)\n",
    "\n",
    "merchant = df.groupby('merchant').size().reset_index(name='merchant_total_trans')\n",
    "merchant['merchant_ID'] = range(1, len(merchant) + 1)\n",
    "\n",
    "category = df.groupby('category').size().reset_index(name='category_total_trans')\n",
    "category['category_ID'] = range(1, len(category) + 1)\n",
    "\n",
    "df = df.merge(customer, on='customer').merge(merchant, on='merchant').merge(category, on='category')\n",
    "\n",
    "df['age'] = df['age'].astype(str).str.replace(\"'\", \"\")\n",
    "df['age'] = df['age'].astype(str).str.replace(\"U\", \"7\")\n",
    "df['age'] = df['age'].astype(float)\n",
    "\n",
    "df['gender'] = df['gender'].apply(lambda x: 1 if x == '\\'M\\'' else (2 if x == '\\'F\\'' else 3))\n",
    "\n",
    "age = df.groupby('age').size().reset_index(name='age_total_trans')\n",
    "gender = df.groupby('gender').size().reset_index(name='gender_total_trans')\n",
    "\n",
    "df = df.merge(age, on='age').merge(gender, on='gender')\n",
    "\n",
    "df = pd.get_dummies(df, columns=['gender', ])\n",
    "\n",
    "# 'customer_ID', 'merchant_ID', 'category_ID', category\n",
    "df.drop(['customer', 'zipcodeOri', 'merchant', 'zipMerchant', 'step', 'category'], axis=1, inplace=True)"
   ]
  },
  {
   "cell_type": "code",
   "execution_count": 4,
   "id": "e8d4b1f5-df8f-4ca0-ba66-fc6f7fadc7ed",
   "metadata": {
    "tags": []
   },
   "outputs": [],
   "source": [
    "df.drop(['customer_total_trans', 'merchant_total_trans', 'category_total_trans', 'age_total_trans', 'gender_total_trans',], axis=1, inplace=True)"
   ]
  },
  {
   "cell_type": "code",
   "execution_count": 5,
   "id": "8c9a6b85-ffa9-4467-8325-79fd3288b65e",
   "metadata": {
    "tags": []
   },
   "outputs": [
    {
     "data": {
      "text/plain": [
       "Index(['age', 'amount', 'fraud', 'customer_ID', 'merchant_ID', 'category_ID',\n",
       "       'gender_1', 'gender_2', 'gender_3'],\n",
       "      dtype='object')"
      ]
     },
     "execution_count": 5,
     "metadata": {},
     "output_type": "execute_result"
    }
   ],
   "source": [
    "df.columns"
   ]
  },
  {
   "cell_type": "code",
   "execution_count": 6,
   "id": "cb8d7ab4-8ded-4bba-a837-4193549052ec",
   "metadata": {
    "tags": []
   },
   "outputs": [],
   "source": [
    "df['Class'] = df['fraud']\n",
    "df.drop(['fraud'], axis=1, inplace=True)"
   ]
  },
  {
   "cell_type": "code",
   "execution_count": 7,
   "id": "809f2614-ee74-436d-8ec4-9d9104489773",
   "metadata": {
    "tags": []
   },
   "outputs": [
    {
     "data": {
      "text/html": [
       "<div>\n",
       "<style scoped>\n",
       "    .dataframe tbody tr th:only-of-type {\n",
       "        vertical-align: middle;\n",
       "    }\n",
       "\n",
       "    .dataframe tbody tr th {\n",
       "        vertical-align: top;\n",
       "    }\n",
       "\n",
       "    .dataframe thead th {\n",
       "        text-align: right;\n",
       "    }\n",
       "</style>\n",
       "<table border=\"1\" class=\"dataframe\">\n",
       "  <thead>\n",
       "    <tr style=\"text-align: right;\">\n",
       "      <th></th>\n",
       "      <th>age</th>\n",
       "      <th>amount</th>\n",
       "      <th>customer_ID</th>\n",
       "      <th>merchant_ID</th>\n",
       "      <th>category_ID</th>\n",
       "      <th>gender_1</th>\n",
       "      <th>gender_2</th>\n",
       "      <th>gender_3</th>\n",
       "      <th>Class</th>\n",
       "    </tr>\n",
       "  </thead>\n",
       "  <tbody>\n",
       "    <tr>\n",
       "      <th>count</th>\n",
       "      <td>594643.000000</td>\n",
       "      <td>594643.000000</td>\n",
       "      <td>594643.000000</td>\n",
       "      <td>594643.000000</td>\n",
       "      <td>594643.000000</td>\n",
       "      <td>594643.000000</td>\n",
       "      <td>594643.000000</td>\n",
       "      <td>594643.000000</td>\n",
       "      <td>594643.000000</td>\n",
       "    </tr>\n",
       "    <tr>\n",
       "      <th>mean</th>\n",
       "      <td>3.014151</td>\n",
       "      <td>37.890135</td>\n",
       "      <td>2043.317776</td>\n",
       "      <td>24.866580</td>\n",
       "      <td>12.066393</td>\n",
       "      <td>0.451338</td>\n",
       "      <td>0.545815</td>\n",
       "      <td>0.002847</td>\n",
       "      <td>0.012108</td>\n",
       "    </tr>\n",
       "    <tr>\n",
       "      <th>std</th>\n",
       "      <td>1.335884</td>\n",
       "      <td>111.402831</td>\n",
       "      <td>1185.491845</td>\n",
       "      <td>8.590215</td>\n",
       "      <td>2.817118</td>\n",
       "      <td>0.497627</td>\n",
       "      <td>0.497897</td>\n",
       "      <td>0.053282</td>\n",
       "      <td>0.109369</td>\n",
       "    </tr>\n",
       "    <tr>\n",
       "      <th>min</th>\n",
       "      <td>0.000000</td>\n",
       "      <td>0.000000</td>\n",
       "      <td>1.000000</td>\n",
       "      <td>1.000000</td>\n",
       "      <td>1.000000</td>\n",
       "      <td>0.000000</td>\n",
       "      <td>0.000000</td>\n",
       "      <td>0.000000</td>\n",
       "      <td>0.000000</td>\n",
       "    </tr>\n",
       "    <tr>\n",
       "      <th>25%</th>\n",
       "      <td>2.000000</td>\n",
       "      <td>13.740000</td>\n",
       "      <td>1021.000000</td>\n",
       "      <td>19.000000</td>\n",
       "      <td>13.000000</td>\n",
       "      <td>0.000000</td>\n",
       "      <td>0.000000</td>\n",
       "      <td>0.000000</td>\n",
       "      <td>0.000000</td>\n",
       "    </tr>\n",
       "    <tr>\n",
       "      <th>50%</th>\n",
       "      <td>3.000000</td>\n",
       "      <td>26.900000</td>\n",
       "      <td>2031.000000</td>\n",
       "      <td>19.000000</td>\n",
       "      <td>13.000000</td>\n",
       "      <td>0.000000</td>\n",
       "      <td>1.000000</td>\n",
       "      <td>0.000000</td>\n",
       "      <td>0.000000</td>\n",
       "    </tr>\n",
       "    <tr>\n",
       "      <th>75%</th>\n",
       "      <td>4.000000</td>\n",
       "      <td>42.540000</td>\n",
       "      <td>3060.000000</td>\n",
       "      <td>31.000000</td>\n",
       "      <td>13.000000</td>\n",
       "      <td>1.000000</td>\n",
       "      <td>1.000000</td>\n",
       "      <td>0.000000</td>\n",
       "      <td>0.000000</td>\n",
       "    </tr>\n",
       "    <tr>\n",
       "      <th>max</th>\n",
       "      <td>7.000000</td>\n",
       "      <td>8329.960000</td>\n",
       "      <td>4112.000000</td>\n",
       "      <td>50.000000</td>\n",
       "      <td>15.000000</td>\n",
       "      <td>1.000000</td>\n",
       "      <td>1.000000</td>\n",
       "      <td>1.000000</td>\n",
       "      <td>1.000000</td>\n",
       "    </tr>\n",
       "  </tbody>\n",
       "</table>\n",
       "</div>"
      ],
      "text/plain": [
       "                 age         amount    customer_ID    merchant_ID  \\\n",
       "count  594643.000000  594643.000000  594643.000000  594643.000000   \n",
       "mean        3.014151      37.890135    2043.317776      24.866580   \n",
       "std         1.335884     111.402831    1185.491845       8.590215   \n",
       "min         0.000000       0.000000       1.000000       1.000000   \n",
       "25%         2.000000      13.740000    1021.000000      19.000000   \n",
       "50%         3.000000      26.900000    2031.000000      19.000000   \n",
       "75%         4.000000      42.540000    3060.000000      31.000000   \n",
       "max         7.000000    8329.960000    4112.000000      50.000000   \n",
       "\n",
       "         category_ID       gender_1       gender_2       gender_3  \\\n",
       "count  594643.000000  594643.000000  594643.000000  594643.000000   \n",
       "mean       12.066393       0.451338       0.545815       0.002847   \n",
       "std         2.817118       0.497627       0.497897       0.053282   \n",
       "min         1.000000       0.000000       0.000000       0.000000   \n",
       "25%        13.000000       0.000000       0.000000       0.000000   \n",
       "50%        13.000000       0.000000       1.000000       0.000000   \n",
       "75%        13.000000       1.000000       1.000000       0.000000   \n",
       "max        15.000000       1.000000       1.000000       1.000000   \n",
       "\n",
       "               Class  \n",
       "count  594643.000000  \n",
       "mean        0.012108  \n",
       "std         0.109369  \n",
       "min         0.000000  \n",
       "25%         0.000000  \n",
       "50%         0.000000  \n",
       "75%         0.000000  \n",
       "max         1.000000  "
      ]
     },
     "execution_count": 7,
     "metadata": {},
     "output_type": "execute_result"
    }
   ],
   "source": [
    "df.describe()"
   ]
  },
  {
   "cell_type": "code",
   "execution_count": 8,
   "id": "ddf4c969-20fb-4c2c-a979-eca9bb0a3abd",
   "metadata": {
    "tags": []
   },
   "outputs": [
    {
     "data": {
      "text/html": [
       "<div>\n",
       "<style scoped>\n",
       "    .dataframe tbody tr th:only-of-type {\n",
       "        vertical-align: middle;\n",
       "    }\n",
       "\n",
       "    .dataframe tbody tr th {\n",
       "        vertical-align: top;\n",
       "    }\n",
       "\n",
       "    .dataframe thead th {\n",
       "        text-align: right;\n",
       "    }\n",
       "</style>\n",
       "<table border=\"1\" class=\"dataframe\">\n",
       "  <thead>\n",
       "    <tr style=\"text-align: right;\">\n",
       "      <th></th>\n",
       "      <th>age</th>\n",
       "      <th>amount</th>\n",
       "      <th>customer_ID</th>\n",
       "      <th>merchant_ID</th>\n",
       "      <th>category_ID</th>\n",
       "      <th>gender_1</th>\n",
       "      <th>gender_2</th>\n",
       "      <th>gender_3</th>\n",
       "      <th>Class</th>\n",
       "    </tr>\n",
       "  </thead>\n",
       "  <tbody>\n",
       "    <tr>\n",
       "      <th>0</th>\n",
       "      <td>4.0</td>\n",
       "      <td>4.55</td>\n",
       "      <td>211</td>\n",
       "      <td>31</td>\n",
       "      <td>13</td>\n",
       "      <td>1</td>\n",
       "      <td>0</td>\n",
       "      <td>0</td>\n",
       "      <td>0</td>\n",
       "    </tr>\n",
       "    <tr>\n",
       "      <th>1</th>\n",
       "      <td>4.0</td>\n",
       "      <td>37.21</td>\n",
       "      <td>211</td>\n",
       "      <td>31</td>\n",
       "      <td>13</td>\n",
       "      <td>1</td>\n",
       "      <td>0</td>\n",
       "      <td>0</td>\n",
       "      <td>0</td>\n",
       "    </tr>\n",
       "    <tr>\n",
       "      <th>2</th>\n",
       "      <td>4.0</td>\n",
       "      <td>31.63</td>\n",
       "      <td>211</td>\n",
       "      <td>31</td>\n",
       "      <td>13</td>\n",
       "      <td>1</td>\n",
       "      <td>0</td>\n",
       "      <td>0</td>\n",
       "      <td>0</td>\n",
       "    </tr>\n",
       "    <tr>\n",
       "      <th>3</th>\n",
       "      <td>4.0</td>\n",
       "      <td>35.86</td>\n",
       "      <td>211</td>\n",
       "      <td>31</td>\n",
       "      <td>13</td>\n",
       "      <td>1</td>\n",
       "      <td>0</td>\n",
       "      <td>0</td>\n",
       "      <td>0</td>\n",
       "    </tr>\n",
       "    <tr>\n",
       "      <th>4</th>\n",
       "      <td>4.0</td>\n",
       "      <td>39.58</td>\n",
       "      <td>211</td>\n",
       "      <td>31</td>\n",
       "      <td>13</td>\n",
       "      <td>1</td>\n",
       "      <td>0</td>\n",
       "      <td>0</td>\n",
       "      <td>0</td>\n",
       "    </tr>\n",
       "    <tr>\n",
       "      <th>...</th>\n",
       "      <td>...</td>\n",
       "      <td>...</td>\n",
       "      <td>...</td>\n",
       "      <td>...</td>\n",
       "      <td>...</td>\n",
       "      <td>...</td>\n",
       "      <td>...</td>\n",
       "      <td>...</td>\n",
       "      <td>...</td>\n",
       "    </tr>\n",
       "    <tr>\n",
       "      <th>594638</th>\n",
       "      <td>7.0</td>\n",
       "      <td>73.76</td>\n",
       "      <td>2368</td>\n",
       "      <td>43</td>\n",
       "      <td>12</td>\n",
       "      <td>0</td>\n",
       "      <td>0</td>\n",
       "      <td>1</td>\n",
       "      <td>0</td>\n",
       "    </tr>\n",
       "    <tr>\n",
       "      <th>594639</th>\n",
       "      <td>7.0</td>\n",
       "      <td>72.13</td>\n",
       "      <td>3939</td>\n",
       "      <td>20</td>\n",
       "      <td>12</td>\n",
       "      <td>0</td>\n",
       "      <td>0</td>\n",
       "      <td>1</td>\n",
       "      <td>0</td>\n",
       "    </tr>\n",
       "    <tr>\n",
       "      <th>594640</th>\n",
       "      <td>7.0</td>\n",
       "      <td>158.10</td>\n",
       "      <td>1881</td>\n",
       "      <td>20</td>\n",
       "      <td>12</td>\n",
       "      <td>0</td>\n",
       "      <td>0</td>\n",
       "      <td>1</td>\n",
       "      <td>0</td>\n",
       "    </tr>\n",
       "    <tr>\n",
       "      <th>594641</th>\n",
       "      <td>7.0</td>\n",
       "      <td>406.41</td>\n",
       "      <td>2368</td>\n",
       "      <td>20</td>\n",
       "      <td>12</td>\n",
       "      <td>0</td>\n",
       "      <td>0</td>\n",
       "      <td>1</td>\n",
       "      <td>0</td>\n",
       "    </tr>\n",
       "    <tr>\n",
       "      <th>594642</th>\n",
       "      <td>7.0</td>\n",
       "      <td>462.97</td>\n",
       "      <td>468</td>\n",
       "      <td>4</td>\n",
       "      <td>9</td>\n",
       "      <td>0</td>\n",
       "      <td>0</td>\n",
       "      <td>1</td>\n",
       "      <td>1</td>\n",
       "    </tr>\n",
       "  </tbody>\n",
       "</table>\n",
       "<p>594643 rows × 9 columns</p>\n",
       "</div>"
      ],
      "text/plain": [
       "        age  amount  customer_ID  merchant_ID  category_ID  gender_1  \\\n",
       "0       4.0    4.55          211           31           13         1   \n",
       "1       4.0   37.21          211           31           13         1   \n",
       "2       4.0   31.63          211           31           13         1   \n",
       "3       4.0   35.86          211           31           13         1   \n",
       "4       4.0   39.58          211           31           13         1   \n",
       "...     ...     ...          ...          ...          ...       ...   \n",
       "594638  7.0   73.76         2368           43           12         0   \n",
       "594639  7.0   72.13         3939           20           12         0   \n",
       "594640  7.0  158.10         1881           20           12         0   \n",
       "594641  7.0  406.41         2368           20           12         0   \n",
       "594642  7.0  462.97          468            4            9         0   \n",
       "\n",
       "        gender_2  gender_3  Class  \n",
       "0              0         0      0  \n",
       "1              0         0      0  \n",
       "2              0         0      0  \n",
       "3              0         0      0  \n",
       "4              0         0      0  \n",
       "...          ...       ...    ...  \n",
       "594638         0         1      0  \n",
       "594639         0         1      0  \n",
       "594640         0         1      0  \n",
       "594641         0         1      0  \n",
       "594642         0         1      1  \n",
       "\n",
       "[594643 rows x 9 columns]"
      ]
     },
     "execution_count": 8,
     "metadata": {},
     "output_type": "execute_result"
    }
   ],
   "source": [
    "df"
   ]
  },
  {
   "cell_type": "markdown",
   "id": "37699ab0-e41f-4c64-9da8-4aa2f0518795",
   "metadata": {},
   "source": [
    "## Check Null Values"
   ]
  },
  {
   "cell_type": "code",
   "execution_count": 9,
   "id": "96ff7266-812e-4168-a2db-81eb6cef2947",
   "metadata": {
    "tags": []
   },
   "outputs": [
    {
     "data": {
      "text/plain": [
       "0"
      ]
     },
     "execution_count": 9,
     "metadata": {},
     "output_type": "execute_result"
    }
   ],
   "source": [
    "df.isnull().sum().max()"
   ]
  },
  {
   "cell_type": "code",
   "execution_count": 10,
   "id": "47950c85-4dab-4a2d-aa99-53bb4d49d7ce",
   "metadata": {
    "tags": []
   },
   "outputs": [
    {
     "name": "stdout",
     "output_type": "stream",
     "text": [
      "<class 'pandas.core.frame.DataFrame'>\n",
      "Int64Index: 594643 entries, 0 to 594642\n",
      "Data columns (total 9 columns):\n",
      " #   Column       Non-Null Count   Dtype  \n",
      "---  ------       --------------   -----  \n",
      " 0   age          594643 non-null  float64\n",
      " 1   amount       594643 non-null  float64\n",
      " 2   customer_ID  594643 non-null  int64  \n",
      " 3   merchant_ID  594643 non-null  int64  \n",
      " 4   category_ID  594643 non-null  int64  \n",
      " 5   gender_1     594643 non-null  uint8  \n",
      " 6   gender_2     594643 non-null  uint8  \n",
      " 7   gender_3     594643 non-null  uint8  \n",
      " 8   Class        594643 non-null  int64  \n",
      "dtypes: float64(2), int64(4), uint8(3)\n",
      "memory usage: 33.5 MB\n"
     ]
    }
   ],
   "source": [
    "df.info()"
   ]
  },
  {
   "cell_type": "markdown",
   "id": "b249b199-162c-4fd1-9be9-c57260e2d98f",
   "metadata": {},
   "source": [
    "## Plot Time & Amount Densities"
   ]
  },
  {
   "cell_type": "markdown",
   "id": "08707f69-5d9f-4429-9b34-7dc3824d98a3",
   "metadata": {},
   "source": [
    "## Split into Train, Validation, and Test"
   ]
  },
  {
   "cell_type": "code",
   "execution_count": 11,
   "id": "e69b8b91-30e9-4237-8699-836060271016",
   "metadata": {
    "tags": []
   },
   "outputs": [],
   "source": [
    "def split_train_val_test(df):\n",
    "    df_target = df['Class']\n",
    "    df_features = df.drop(columns=['Class'],axis=1)\n",
    "    \n",
    "#     pca = PCA(n_components=40)\n",
    "#     pca.fit(df_features)\n",
    "\n",
    "#     # Get the principal components\n",
    "#     components = pca.transform(df_features)\n",
    "\n",
    "#     # Create a DataFrame to hold the principal components\n",
    "#     components_df = pd.DataFrame(components, columns=[f'PC{i+1}' for i in range(40)])\n",
    "\n",
    "#     # Concatenate the 'Class' column back to the DataFrame\n",
    "#     df_features = components_df\n",
    "\n",
    "    df_train, df_test, df_train_target, df_test_target = train_test_split(df_features, df_target, test_size=0.2, random_state=42, stratify=df_target)\n",
    "    df_train, df_val, df_train_target, df_val_target = train_test_split(df_train, df_train_target, test_size=0.125, random_state=42, stratify=df_train_target)\n",
    "    return df_train, df_train_target, df_val, df_val_target, df_test, df_test_target"
   ]
  },
  {
   "cell_type": "markdown",
   "id": "541af3e2-0b0b-43fa-8aa5-9e8a07d77b16",
   "metadata": {},
   "source": [
    "## Preprocessing Function"
   ]
  },
  {
   "cell_type": "code",
   "execution_count": 12,
   "id": "390f41e6-5033-470d-b199-94d5d54a6e16",
   "metadata": {
    "tags": []
   },
   "outputs": [],
   "source": [
    "from sklearn.decomposition import PCA\n",
    "\n",
    "def preprocess(df_train, df_train_target, df_val, df_val_target, df_test, df_test_target, oversampling_rate):\n",
    "    if oversampling_rate != 0:\n",
    "        oversampling = SMOTE(random_state=42, sampling_strategy=oversampling_rate) \n",
    "        df_train, df_train_target = oversampling.fit_resample(df_train, df_train_target)\n",
    "    \n",
    "    for column in df.columns[0:2]:\n",
    "        std_scalar = StandardScaler()\n",
    "        df_train[column] = std_scalar.fit_transform(df_train[column].values.reshape(-1,1))\n",
    "        df_val[column] = std_scalar.transform(df_val[column].values.reshape(-1,1))\n",
    "        df_test[column] = std_scalar.transform(df_test[column].values.reshape(-1,1))\n",
    "    \n",
    "    X_train = df_train.to_numpy()\n",
    "    X_val = df_val.to_numpy()\n",
    "    X_test = df_test.to_numpy()\n",
    "    y_train = df_train_target.to_numpy().reshape(X_train.shape[0], 1)\n",
    "    y_val = df_val_target.to_numpy().reshape(X_val.shape[0], 1)\n",
    "    y_test = df_test_target.to_numpy().reshape(X_test.shape[0], 1)\n",
    "    \n",
    "    return df_train, df_train_target, df_val, df_val_target, df_test, df_test_target, X_train, y_train, X_val, y_val, X_test, y_test"
   ]
  },
  {
   "cell_type": "markdown",
   "id": "b48f3442-0370-4614-bac5-7240a7a5d920",
   "metadata": {},
   "source": [
    "## Evaluate Function"
   ]
  },
  {
   "cell_type": "code",
   "execution_count": 13,
   "id": "716258cf-0c26-42c5-bd66-7b50cd35271a",
   "metadata": {
    "tags": []
   },
   "outputs": [],
   "source": [
    "def evaluate_model(Y_original, Y_predict):\n",
    "    auc = metrics.roc_auc_score(Y_original, Y_predict)\n",
    "    Y_predict = (Y_predict > 0.5) * 1\n",
    "    accuracy = metrics.accuracy_score(Y_original, Y_predict)\n",
    "    precision = metrics.precision_score(Y_original, Y_predict)\n",
    "    recall = metrics.recall_score(Y_original, Y_predict)\n",
    "    \n",
    "    try:\n",
    "        f1_score = metrics.f1_score(Y_original, Y_predict)\n",
    "    except: \n",
    "        f1_score = 0\n",
    "    try:\n",
    "        mcc = metrics.matthews_corrcoef(Y_original, Y_predict)\n",
    "    except:\n",
    "        mcc = 0\n",
    "    \n",
    "    return (accuracy, recall, precision, f1_score, auc, mcc)"
   ]
  },
  {
   "cell_type": "markdown",
   "id": "ab173dea-7555-4ed6-b099-0635ccaeb6ee",
   "metadata": {
    "tags": []
   },
   "source": [
    "## Unsupervised Algorithms"
   ]
  },
  {
   "cell_type": "markdown",
   "id": "ce0de3d8-9f05-4672-9802-fa041dcbd29e",
   "metadata": {},
   "source": [
    "### CLARA"
   ]
  },
  {
   "cell_type": "code",
   "execution_count": 14,
   "id": "8b93c06f-9d89-432e-b0f2-624e69611011",
   "metadata": {
    "tags": []
   },
   "outputs": [],
   "source": [
    "def perform_clara(range_k, X_train, y_train, X_val, y_val, X_test, y_test, fraud_ratio_threshold=0.5):\n",
    "    fraud_percentages = []\n",
    "    train_scores = []\n",
    "    validation_scores = []\n",
    "    test_scores = {}\n",
    "    data_clusters = []\n",
    "    all_data = {}\n",
    "    for k in range_k:\n",
    "        _s=time.time()\n",
    "        clustering = CLARA(n_clusters=k, random_state=42, metric='custom_euclidean')\n",
    "        clustering.fit(X_train)\n",
    "\n",
    "        predicted_clusters_train = clustering.predict(X_train)\n",
    "        cluster_to_label = {}\n",
    "        for i in range(k):\n",
    "            fraud_percentage = (y_train[predicted_clusters_train == i] == 1).sum() / (predicted_clusters_train == i).sum()\n",
    "            cluster_to_label[i] = fraud_percentage\n",
    "            fraud_percentages.append([k, i, fraud_percentage, ])\n",
    "            data_clusters.append([k, i, fraud_percentage, np.concatenate([X_train[predicted_clusters_train == i], y_train[predicted_clusters_train == i]], axis=1)])\n",
    "            \n",
    "        predicted_clusters_train = np.array(list(map(lambda x: cluster_to_label[x], predicted_clusters_train)))\n",
    "        train_scores.append([k, *evaluate_model(y_train, predicted_clusters_train.reshape(predicted_clusters_train.shape[0], 1))])\n",
    "        \n",
    "        predicted_clusters_val = clustering.predict(X_val)\n",
    "        predicted_clusters_val = np.array(list(map(lambda x: cluster_to_label[x], predicted_clusters_val)))\n",
    "        validation_scores.append([k, *evaluate_model(y_val, predicted_clusters_val.reshape(predicted_clusters_val.shape[0], 1))])\n",
    "        \n",
    "        predicted_clusters_test = clustering.predict(X_test)\n",
    "        predicted_clusters_test = np.array(list(map(lambda x: cluster_to_label[x], predicted_clusters_test)))\n",
    "        all_data[k] = [predicted_clusters_train, predicted_clusters_val, predicted_clusters_test]\n",
    "        _t=time.time()-_s\n",
    "        test_scores[k] = (*evaluate_model(y_test, predicted_clusters_test.reshape(predicted_clusters_test.shape[0], 1)),_t)\n",
    "        \n",
    "    fraud_percentages = np.array(fraud_percentages)\n",
    "    train_scores = np.array(train_scores)\n",
    "    validation_scores = np.array(validation_scores)\n",
    "    best_k = int(validation_scores[validation_scores[:,4].argmax()][0])\n",
    "    \n",
    "    return fraud_percentages, train_scores, validation_scores, best_k, test_scores[best_k], data_clusters, all_data"
   ]
  },
  {
   "cell_type": "code",
   "execution_count": 15,
   "id": "2cf99a7d-13b4-46f6-a0bb-d0d4d24c95a0",
   "metadata": {
    "tags": []
   },
   "outputs": [],
   "source": [
    "def perform_clara_smote(range_k, X_train, y_train, X_val, y_val, X_test, y_test, fraud_ratio_threshold=0.5, os_rate=0.02):\n",
    "    fraud_percentages = []\n",
    "    train_scores = []\n",
    "    validation_scores = []\n",
    "    test_scores = {}\n",
    "    data_clusters = []\n",
    "    all_data = {}\n",
    "    new_X_train, new_y_train = np.copy(X_train), np.copy(y_train)\n",
    "    for k in range_k:\n",
    "        _s=time.time()\n",
    "        clustering = CLARA(n_clusters=k, random_state=42, metric='custom_euclidean', n_sampling=250, n_sampling_iter=10)\n",
    "        clustering.fit(new_X_train)\n",
    "        \n",
    "        new_X_train = new_X_train[:X_train.shape[0]]\n",
    "        new_y_train = new_y_train[:y_train.shape[0]]\n",
    "        \n",
    "        predicted_clusters_train = clustering.predict(X_train)\n",
    "        cluster_to_label = {}\n",
    "        for i in range(k):\n",
    "            fraud_percentage = (y_train[predicted_clusters_train == i] == 1).sum() / (predicted_clusters_train == i).sum()\n",
    "            cluster_to_label[i] = fraud_percentage\n",
    "            \n",
    "            try:\n",
    "                oversampling = SMOTE(random_state=42, sampling_strategy={1: int(X_train[predicted_clusters_train == i].shape[0] * os_rate)}) \n",
    "                new_X_train_temp, new_y_train_temp = oversampling.fit_resample(X_train[predicted_clusters_train == i], y_train[predicted_clusters_train == i])\n",
    "\n",
    "                new_X_train = np.concatenate([new_X_train, new_X_train_temp[X_train[predicted_clusters_train == i].shape[0]:]])\n",
    "                new_y_train = np.concatenate([new_y_train, new_y_train_temp[y_train[predicted_clusters_train == i].shape[0]:].reshape(-1, 1)])\n",
    "            except:\n",
    "                ...\n",
    "            \n",
    "            fraud_percentages.append([k, i, fraud_percentage, ])\n",
    "            data_clusters.append([k, i, fraud_percentage, np.concatenate([X_train[predicted_clusters_train == i], y_train[predicted_clusters_train == i]], axis=1)])\n",
    "        \n",
    "        predicted_clusters_train = np.array(list(map(lambda x: cluster_to_label[x], predicted_clusters_train)))\n",
    "        train_scores.append([k, *evaluate_model(y_train, predicted_clusters_train.reshape(predicted_clusters_train.shape[0], 1))])\n",
    "        \n",
    "        predicted_clusters_val = clustering.predict(X_val)\n",
    "        predicted_clusters_val = np.array(list(map(lambda x: cluster_to_label[x], predicted_clusters_val)))\n",
    "        validation_scores.append([k, *evaluate_model(y_val, predicted_clusters_val.reshape(predicted_clusters_val.shape[0], 1))])\n",
    "        \n",
    "        predicted_clusters_test = clustering.predict(X_test)\n",
    "        predicted_clusters_test = np.array(list(map(lambda x: cluster_to_label[x], predicted_clusters_test)))\n",
    "        all_data[k] = [predicted_clusters_train, predicted_clusters_val, predicted_clusters_test]\n",
    "        _t=time.time()-_s\n",
    "        test_scores[k] = (*evaluate_model(y_test, predicted_clusters_test.reshape(predicted_clusters_test.shape[0], 1)),_t)  \n",
    "    fraud_percentages = np.array(fraud_percentages)\n",
    "    train_scores = np.array(train_scores)\n",
    "    validation_scores = np.array(validation_scores)\n",
    "    best_k = int(validation_scores[validation_scores[:,4].argmax()][0])\n",
    "    best_k_auc = int(validation_scores[validation_scores[:,5].argmax()][0])\n",
    "    \n",
    "    return fraud_percentages, train_scores, validation_scores, best_k, test_scores[best_k], best_k_auc, test_scores[best_k_auc], data_clusters, all_data"
   ]
  },
  {
   "cell_type": "markdown",
   "id": "87d57eb8-9c04-4443-a998-0445485eca26",
   "metadata": {
    "tags": []
   },
   "source": [
    "## Execution"
   ]
  },
  {
   "cell_type": "code",
   "execution_count": 16,
   "id": "7f09bf0d-1e27-45bf-942f-548706ba2d42",
   "metadata": {
    "tags": []
   },
   "outputs": [],
   "source": [
    "result_with_oversampling = []"
   ]
  },
  {
   "cell_type": "markdown",
   "id": "4d30f2dd-267f-4cdf-a083-d3770021582b",
   "metadata": {},
   "source": [
    "### CLARA"
   ]
  },
  {
   "cell_type": "code",
   "execution_count": 17,
   "id": "9d641a1b-5073-464b-94aa-2f8668bab2f2",
   "metadata": {
    "tags": []
   },
   "outputs": [],
   "source": [
    "df_train, df_train_target, df_val, df_val_target, df_test, df_test_target = split_train_val_test(df)\n",
    "df_train, df_train_target, df_val, df_val_target, df_test, df_test_target, X_train, y_train, X_val, y_val, X_test, y_test = preprocess(df_train, df_train_target, df_val, df_val_target, df_test, df_test_target, oversampling_rate=0)"
   ]
  },
  {
   "cell_type": "code",
   "execution_count": 18,
   "id": "0c0cfe1b-1af6-4c5f-ba28-30f7f700b548",
   "metadata": {
    "tags": []
   },
   "outputs": [],
   "source": [
    "fraud_percentage, train_scores, validation_scores, best_k, best_test_score, best_k_auc, best_test_score_auc, data_clusters, all_data = perform_clara_smote(range(2, 40), X_train, y_train, X_val, y_val, X_test, y_test)\n",
    "train_scores = pd.DataFrame(train_scores, columns=['k', 'accuracy', 'recall', 'precision', 'f1_score', 'auc', 'mcc'])\n",
    "validation_scores = pd.DataFrame(validation_scores, columns=['k', 'accuracy', 'recall', 'precision', 'f1_score', 'auc', 'mcc'])\n",
    "result_with_oversampling.append(['CLARA', *best_test_score])"
   ]
  },
  {
   "cell_type": "code",
   "execution_count": 19,
   "id": "c15d7b1c-c0e9-4002-b7ff-93829f4bbde3",
   "metadata": {
    "tags": []
   },
   "outputs": [
    {
     "data": {
      "image/png": "[encoded data removed]",
      "text/plain": [
       "<Figure size 1200x400 with 1 Axes>"
      ]
     },
     "metadata": {},
     "output_type": "display_data"
    }
   ],
   "source": [
    "fig, ax = plt.subplots(figsize=(12, 4))\n",
    "\n",
    "ax.plot(train_scores[train_scores['f1_score'] > 0.3]['k'], train_scores[train_scores['f1_score'] > 0.3]['f1_score'], 'o-', color=\"#ff9124\",\n",
    "         label=\"Training F1 score\")\n",
    "ax.plot(validation_scores[train_scores['f1_score'] > 0.3]['k'], validation_scores[train_scores['f1_score'] > 0.3]['f1_score'], 'o-', color=\"#2492ff\",\n",
    "         label=\"Validation F1 score\")\n",
    "ax.plot(best_k, best_test_score[3], 'o-', color=\"#ff0000\", \n",
    "         label=\"Test F1 score\")\n",
    "\n",
    "ax.xaxis.set_major_locator(plt.MultipleLocator(2));\n",
    "ax.set_title(\"CLARA F1 Performance based on K with Iterative Oversampling (Dataset 2)\", fontsize=14)\n",
    "ax.set_xlabel('Number of Clusters (K)')\n",
    "ax.set_ylabel('F1 Score')\n",
    "ax.set_ylim(0.2, 1)\n",
    "ax.grid(True)\n",
    "ax.legend();"
   ]
  },
  {
   "cell_type": "code",
   "execution_count": 20,
   "id": "d9556a24-f9d3-4ccf-939b-7cc13e348f84",
   "metadata": {
    "tags": []
   },
   "outputs": [
    {
     "data": {
      "text/plain": [
       "(0.9937105331752558,\n",
       " 0.6097222222222223,\n",
       " 0.825187969924812,\n",
       " 0.7012779552715656,\n",
       " 0.9627318863657212,\n",
       " 0.7063493163637227,\n",
       " 7.24465799331665)"
      ]
     },
     "execution_count": 20,
     "metadata": {},
     "output_type": "execute_result"
    }
   ],
   "source": [
    "best_test_score"
   ]
  },
  {
   "cell_type": "code",
   "execution_count": 21,
   "id": "9d7bcc62-713b-4074-bf0d-afdecbadcc82",
   "metadata": {
    "tags": []
   },
   "outputs": [
    {
     "data": {
      "image/png": "[encoded data removed]",
      "text/plain": [
       "<Figure size 1200x400 with 1 Axes>"
      ]
     },
     "metadata": {},
     "output_type": "display_data"
    }
   ],
   "source": [
    "fig, ax = plt.subplots(figsize=(12, 4))\n",
    "\n",
    "ax.plot(train_scores['k'], train_scores['auc'], 'o-', color=\"#ff9124\",\n",
    "         label=\"Training AUC\")\n",
    "ax.plot(validation_scores['k'], validation_scores['auc'], 'o-', color=\"#2492ff\",\n",
    "         label=\"Validation AUC\")\n",
    "ax.plot(best_k_auc, best_test_score_auc[4], 'o-', color=\"#ff0000\", \n",
    "         label=\"Test AUC\")\n",
    "\n",
    "ax.xaxis.set_major_locator(plt.MultipleLocator(2));\n",
    "ax.set_title(\"CLARA AUC based on K with Iterative Oversampling (Dataset 2)\", fontsize=14)\n",
    "ax.set_xlabel('Number of Clusters (K)')\n",
    "ax.set_ylabel('AUC')\n",
    "ax.grid(True)\n",
    "ax.legend();"
   ]
  }
 ],
 "metadata": {
  "kernelspec": {
   "display_name": "Python 3 (ipykernel)",
   "language": "python",
   "name": "python3"
  },
  "language_info": {
   "codemirror_mode": {
    "name": "ipython",
    "version": 3
   },
   "file_extension": ".py",
   "mimetype": "text/x-python",
   "name": "python",
   "nbconvert_exporter": "python",
   "pygments_lexer": "ipython3",
   "version": "3.10.9"
  }
 },
 "nbformat": 4,
 "nbformat_minor": 5
}
